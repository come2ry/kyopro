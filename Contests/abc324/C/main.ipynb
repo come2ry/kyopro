{
 "cells": [
  {
   "cell_type": "code",
   "execution_count": 16,
   "metadata": {},
   "outputs": [],
   "source": [
    "Td = \"aa\"\n",
    "candidates = set(Td)"
   ]
  },
  {
   "cell_type": "code",
   "execution_count": 17,
   "metadata": {},
   "outputs": [],
   "source": [
    "import string"
   ]
  },
  {
   "cell_type": "code",
   "execution_count": 21,
   "metadata": {},
   "outputs": [
    {
     "name": "stdout",
     "output_type": "stream",
     "text": [
      "aaa\n",
      "baa\n",
      "caa\n",
      "daa\n",
      "eaa\n",
      "faa\n",
      "gaa\n",
      "haa\n",
      "iaa\n",
      "jaa\n",
      "kaa\n",
      "laa\n",
      "maa\n",
      "naa\n",
      "oaa\n",
      "paa\n",
      "qaa\n",
      "raa\n",
      "saa\n",
      "taa\n",
      "uaa\n",
      "vaa\n",
      "waa\n",
      "xaa\n",
      "yaa\n",
      "zaa\n",
      "aaa\n",
      "aba\n",
      "aca\n",
      "ada\n",
      "aea\n",
      "afa\n",
      "aga\n",
      "aha\n",
      "aia\n",
      "aja\n",
      "aka\n",
      "ala\n",
      "ama\n",
      "ana\n",
      "aoa\n",
      "apa\n",
      "aqa\n",
      "ara\n",
      "asa\n",
      "ata\n",
      "aua\n",
      "ava\n",
      "awa\n",
      "axa\n",
      "aya\n",
      "aza\n",
      "aaa\n",
      "aab\n",
      "aac\n",
      "aad\n",
      "aae\n",
      "aaf\n",
      "aag\n",
      "aah\n",
      "aai\n",
      "aaj\n",
      "aak\n",
      "aal\n",
      "aam\n",
      "aan\n",
      "aao\n",
      "aap\n",
      "aaq\n",
      "aar\n",
      "aas\n",
      "aat\n",
      "aau\n",
      "aav\n",
      "aaw\n",
      "aax\n",
      "aay\n",
      "aaz\n"
     ]
    }
   ],
   "source": [
    "for i in range(len(Td) + 1):\n",
    "    # 2. T′は、Tのいずれか1つの位置（先頭と末尾も含む）に英小文字を1つ挿入して得られる文字列である。\n",
    "    for s in string.ascii_lowercase:\n",
    "        c = list(Td)\n",
    "        c.insert(i, s)\n",
    "        print(\"\".join(c))"
   ]
  },
  {
   "cell_type": "code",
   "execution_count": 19,
   "metadata": {},
   "outputs": [
    {
     "name": "stdout",
     "output_type": "stream",
     "text": [
      "a\n",
      "a\n"
     ]
    }
   ],
   "source": [
    "# T′は、Tからある1文字を削除して得られる文字列である。\n",
    "for i in range(len(Td) + 1):\n",
    "    if i != len(Td):\n",
    "        c = list(Td)\n",
    "        c.pop(i)\n",
    "        print(\" \".join(c))"
   ]
  },
  {
   "cell_type": "code",
   "execution_count": 20,
   "metadata": {},
   "outputs": [
    {
     "name": "stdout",
     "output_type": "stream",
     "text": [
      "aa\n",
      "ba\n",
      "ca\n",
      "da\n",
      "ea\n",
      "fa\n",
      "ga\n",
      "ha\n",
      "ia\n",
      "ja\n",
      "ka\n",
      "la\n",
      "ma\n",
      "na\n",
      "oa\n",
      "pa\n",
      "qa\n",
      "ra\n",
      "sa\n",
      "ta\n",
      "ua\n",
      "va\n",
      "wa\n",
      "xa\n",
      "ya\n",
      "za\n",
      "aa\n",
      "ab\n",
      "ac\n",
      "ad\n",
      "ae\n",
      "af\n",
      "ag\n",
      "ah\n",
      "ai\n",
      "aj\n",
      "ak\n",
      "al\n",
      "am\n",
      "an\n",
      "ao\n",
      "ap\n",
      "aq\n",
      "ar\n",
      "as\n",
      "at\n",
      "au\n",
      "av\n",
      "aw\n",
      "ax\n",
      "ay\n",
      "az\n"
     ]
    }
   ],
   "source": [
    "# T′は、Tのある1文字を別の英小文字に変更して得られる文字列である。\n",
    "for i in range(len(Td) + 1):\n",
    "    if i != len(Td):\n",
    "        for s in string.ascii_lowercase:\n",
    "            c = list(Td)\n",
    "            c[i] = s\n",
    "            print(\"\".join(c))"
   ]
  },
  {
   "cell_type": "code",
   "execution_count": null,
   "metadata": {},
   "outputs": [],
   "source": []
  }
 ],
 "metadata": {
  "kernelspec": {
   "display_name": "Python 3",
   "language": "python",
   "name": "python3"
  },
  "language_info": {
   "codemirror_mode": {
    "name": "ipython",
    "version": 3
   },
   "file_extension": ".py",
   "mimetype": "text/x-python",
   "name": "python",
   "nbconvert_exporter": "python",
   "pygments_lexer": "ipython3",
   "version": "3.8.2"
  },
  "orig_nbformat": 4
 },
 "nbformat": 4,
 "nbformat_minor": 2
}
